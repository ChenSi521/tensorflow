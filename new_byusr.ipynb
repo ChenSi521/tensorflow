{
  "nbformat": 4,
  "nbformat_minor": 0,
  "metadata": {
    "colab": {
      "name": "new_byusr.ipynb",
      "private_outputs": true,
      "provenance": [],
      "collapsed_sections": [],
      "mount_file_id": "1XUzhFUCX6R4J1rAHADVSq_tmyBC9mRR4",
      "authorship_tag": "ABX9TyOFCb9YSiGebUfEeQ4PPaCo",
      "include_colab_link": true
    },
    "kernelspec": {
      "name": "python3",
      "display_name": "Python 3"
    },
    "language_info": {
      "name": "python"
    },
    "accelerator": "GPU"
  },
  "cells": [
    {
      "cell_type": "markdown",
      "metadata": {
        "id": "view-in-github",
        "colab_type": "text"
      },
      "source": [
        "<a href=\"https://colab.research.google.com/github/ChenSi521/tensorflow/blob/master/new_byusr.ipynb\" target=\"_parent\"><img src=\"https://colab.research.google.com/assets/colab-badge.svg\" alt=\"Open In Colab\"/></a>"
      ]
    },
    {
      "cell_type": "code",
      "metadata": {
        "id": "i13my3CMFT6k"
      },
      "source": [
        "!pwd\n",
        "!cat /proc/version\n",
        "!lsb_release -a\n",
        "!uname -a"
      ],
      "execution_count": null,
      "outputs": []
    },
    {
      "cell_type": "code",
      "metadata": {
        "id": "d-jVvm9mGoH2"
      },
      "source": [
        "%cd /content/drive/MyDrive/models-master/research\n",
        "# 必须使用这个才行 /content/drive/MyDrive/models-master/research。另外前一行的后面不能添加注释\n",
        "!pwd"
      ],
      "execution_count": null,
      "outputs": []
    },
    {
      "cell_type": "code",
      "metadata": {
        "id": "NJUoHph6C8Nr"
      },
      "source": [
        "# https://github.com/google/protobuf/releases\n",
        "# !wget https://github.com/protocolbuffers/protobuf/releases/download/v3.16.0/protoc-3.16.0-linux-x86_64.zip\n",
        "# !unzip protoc-3.16.0-linux-x86_64.zip -d protoc-my"
      ],
      "execution_count": null,
      "outputs": []
    },
    {
      "cell_type": "code",
      "metadata": {
        "id": "pxZyYMLvD44t"
      },
      "source": [
        "# !./protoc-my/bin/protoc object_detection/protos/*.proto --python_out=."
      ],
      "execution_count": null,
      "outputs": []
    },
    {
      "cell_type": "code",
      "metadata": {
        "id": "fc1yxx2qHS6E",
        "collapsed": true
      },
      "source": [
        "!pwd\n",
        "!python -m pip install ."
      ],
      "execution_count": null,
      "outputs": []
    },
    {
      "cell_type": "code",
      "metadata": {
        "id": "iLtPvyXfV8_U"
      },
      "source": [
        "!python object_detection/builders/model_builder_tf2_test.py"
      ],
      "execution_count": null,
      "outputs": []
    },
    {
      "cell_type": "code",
      "metadata": {
        "id": "d3A6SqiqmmQb"
      },
      "source": [
        "!pwd\n",
        "!python object_detection/model_main_tf2.py  # 训练"
      ],
      "execution_count": null,
      "outputs": []
    },
    {
      "cell_type": "code",
      "metadata": {
        "id": "VJy7wpngjkgB"
      },
      "source": [
        "!/opt/bin/nvidia-smi\n"
      ],
      "execution_count": null,
      "outputs": []
    },
    {
      "cell_type": "code",
      "metadata": {
        "id": "ROMczkUEivB1"
      },
      "source": [
        "# command = \"python {} --model_dir={} --pipeline_config_path={} --checkpoint_dir={}\".format(object_detection/model_main_tf2.py, paths['CHECKPOINT_PATH'],files['PIPELINE_CONFIG'], paths['CHECKPOINT_PATH'])\n",
        "!python object_detection/model_main_tf2.py --model_dir='/content/drive/MyDrive/Paperobjects/output-models1' --pipeline_config_path='/content/drive/MyDrive/models-master/research/object_detection/configs/tf2/ssd_mobilenet_v2_640x640_customer.config' --checkpoint_dir='/content/drive/MyDrive/Paperobjects/output-models1'"
      ],
      "execution_count": null,
      "outputs": []
    },
    {
      "cell_type": "code",
      "metadata": {
        "id": "cqIIQAainKAg"
      },
      "source": [
        "import os\n",
        "import tensorflow as tf\n",
        "from object_detection.utils import label_map_util\n",
        "from object_detection.utils import visualization_utils as viz_utils\n",
        "from object_detection.builders import model_builder\n",
        "from object_detection.utils import config_util\n",
        "\n",
        "# Load pipeline config and build a detection model\n",
        "config_path = '/content/drive/MyDrive/models-master/research/object_detection/configs/tf2/ssd_mobilenet_v2_640x640_customer.config'\n",
        "configs = config_util.get_configs_from_pipeline_file(config_path)\n",
        "detection_model = model_builder.build(model_config=configs['model'], is_training=False)\n",
        "\n",
        "# Restore checkpoint\n",
        "ckpt = tf.compat.v2.train.Checkpoint(model=detection_model)\n",
        "checkpoint_path = '/content/drive/MyDrive/Paperobjects/output-models1'\n",
        "ckpt.restore(os.path.join(checkpoint_path, 'ckpt-45')).expect_partial()   # 要改成自己准备使用的ckpt\n",
        "\n",
        "@tf.function\n",
        "def detect_fn(image):\n",
        "    image, shapes = detection_model.preprocess(image)\n",
        "    prediction_dict = detection_model.predict(image, shapes)\n",
        "    detections = detection_model.postprocess(prediction_dict, shapes)\n",
        "    return detections\n",
        "\n",
        "import cv2 \n",
        "import numpy as np\n",
        "from matplotlib import pyplot as plt\n",
        "%matplotlib inline\n",
        "\n",
        "labelmap = '/content/drive/MyDrive/models-master/research/object_detection/data/custom_label_map_fortrain.pbtxt'\n",
        "category_index = label_map_util.create_category_index_from_labelmap(labelmap)\n",
        "\n",
        "IMAGE_PATH = '/content/drive/MyDrive/Paperobjects/test/IMG_2845_jpg.rf.81235ba124a502c1a398bce69d7be40e.jpg'\n",
        "img = cv2.imread(IMAGE_PATH)\n",
        "image_np = np.array(img)\n",
        "\n",
        "input_tensor = tf.convert_to_tensor(np.expand_dims(image_np, 0), dtype=tf.float32)\n",
        "detections = detect_fn(input_tensor)\n",
        "\n",
        "num_detections = int(detections.pop('num_detections'))\n",
        "detections = {key: value[0, :num_detections].numpy()\n",
        "              for key, value in detections.items()}\n",
        "detections['num_detections'] = num_detections\n",
        "\n",
        "# detection_classes should be ints.\n",
        "detections['detection_classes'] = detections['detection_classes'].astype(np.int64)\n",
        "\n",
        "label_id_offset = 1\n",
        "image_np_with_detections = image_np.copy()\n",
        "\n",
        "viz_utils.visualize_boxes_and_labels_on_image_array(\n",
        "            image_np_with_detections,\n",
        "            detections['detection_boxes'],\n",
        "            detections['detection_classes']+label_id_offset,\n",
        "            detections['detection_scores'],\n",
        "            category_index,\n",
        "            use_normalized_coordinates=True,\n",
        "            max_boxes_to_draw=100,\n",
        "            min_score_thresh=.3,\n",
        "            agnostic_mode=False)\n",
        "\n",
        "plt.imshow(cv2.cvtColor(image_np_with_detections, cv2.COLOR_BGR2RGB))\n",
        "plt.show()\n"
      ],
      "execution_count": null,
      "outputs": []
    },
    {
      "cell_type": "code",
      "metadata": {
        "id": "oW-jvPGXptrJ"
      },
      "source": [
        "# 下面的两步是转tflite\n",
        "!python /content/drive/MyDrive/models-master/research/object_detection/export_tflite_graph_tf2.py --pipeline_config_path='/content/drive/MyDrive/Paperobjects/output-models1' --pipeline_config_path='/content/drive/MyDrive/models-master/research/object_detection/configs/tf2/ssd_mobilenet_v2_640x640_customer.config' --trained_checkpoint_dir='/content/drive/MyDrive/Paperobjects/output-models1' --output_directory='/content/drive/MyDrive/Paperobjects/output-models1/tflite-output'"
      ],
      "execution_count": null,
      "outputs": []
    },
    {
      "cell_type": "code",
      "metadata": {
        "id": "1mcQAN31xczg"
      },
      "source": [
        "!tflite_convert --saved_model_dir='/content/drive/MyDrive/Paperobjects/output-models1/tflite-output/saved_model' --output_file='/content/drive/MyDrive/Paperobjects/output-models1/tflite-output/saved_model/detect.tflite' --input_shapes=1,640,640,3 --input_arrays=normalized_input_image_tensor --output_arrays='TFLite_Detection_PostProcess','TFLite_Detection_PostProcess:1','TFLite_Detection_PostProcess:2','TFLite_Detection_PostProcess:3' --inference_type=FLOAT --allow_custom_ops"
      ],
      "execution_count": null,
      "outputs": []
    }
  ]
}